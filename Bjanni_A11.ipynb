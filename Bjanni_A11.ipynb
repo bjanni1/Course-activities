{
  "nbformat": 4,
  "nbformat_minor": 0,
  "metadata": {
    "colab": {
      "name": "Bjanni_A11.ipynb",
      "provenance": [],
      "mount_file_id": "1HaZp6Ou0A-nHtRNGD8ZF0-cObPm2P7XA",
      "authorship_tag": "ABX9TyPqvyBUJFrvj1S2QFMrCyGq",
      "include_colab_link": true
    },
    "kernelspec": {
      "name": "python3",
      "display_name": "Python 3"
    },
    "language_info": {
      "name": "python"
    }
  },
  "cells": [
    {
      "cell_type": "markdown",
      "metadata": {
        "id": "view-in-github",
        "colab_type": "text"
      },
      "source": [
        "<a href=\"https://colab.research.google.com/github/bjanni1/Course-activities/blob/main/Bjanni_A11.ipynb\" target=\"_parent\"><img src=\"https://colab.research.google.com/assets/colab-badge.svg\" alt=\"Open In Colab\"/></a>"
      ]
    },
    {
      "cell_type": "code",
      "execution_count": 4,
      "metadata": {
        "colab": {
          "base_uri": "https://localhost:8080/"
        },
        "id": "MfzfqsDtgNiD",
        "outputId": "98dc237a-61d2-47b5-e05e-40a8f0eb1d01"
      },
      "outputs": [
        {
          "output_type": "stream",
          "name": "stdout",
          "text": [
            "Index(['A', 'B', 'C', 'D', 'E', 'F', 'G', 'H', 'I', 'J', 'EOP'], dtype='object', name='tasks')\n",
            "tasks         A        B         C         D         E         F         G  \\\n",
            "0      7.038169  4.74562  3.099701  2.790931  5.665526  2.389202  4.046573   \n",
            "1      6.742895  4.41108  2.532741  2.728276  6.663896  2.042503  4.857327   \n",
            "\n",
            "tasks         H          I         J  EOP  \n",
            "0      1.513868  17.962105  2.407695  NaN  \n",
            "1      2.911368   5.499757  1.956075  NaN  \n"
          ]
        }
      ],
      "source": [
        "import pandas as pd\n",
        "import tensorflow_probability as tfp\n",
        "tfp = tfp.distributions\n",
        "\n",
        "tasksDF=pd.read_csv(\"/content/drive/MyDrive/PERT-CPM.csv\")\n",
        "taskNames=tasksDF['tasks']\n",
        "simulationDF=pd.DataFrame(columns=taskNames)\n",
        "\n",
        "print(simulationDF.columns)\n",
        "for index, task in tasksDF.iterrows():\n",
        "  dist=tfp.PERT(low=task['best'], peak=task['mostL'], high=task['worst'], temperature=4) \n",
        "  simulationDF[task['tasks']]=dist.sample(100000)\n",
        "\n",
        "print(simulationDF.head(2))\n",
        "simulationDF.to_csv('/content/drive/MyDrive/PERT-CPM.csv', index=False)\n",
        "\n",
        "  "
      ]
    }
  ]
}